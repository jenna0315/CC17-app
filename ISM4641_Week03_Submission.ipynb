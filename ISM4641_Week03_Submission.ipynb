{
  "nbformat": 4,
  "nbformat_minor": 0,
  "metadata": {
    "colab": {
      "provenance": [],
      "authorship_tag": "ABX9TyPh8cyDCJg2k0qYBoWpzVYB",
      "include_colab_link": true
    },
    "kernelspec": {
      "name": "python3",
      "display_name": "Python 3"
    },
    "language_info": {
      "name": "python"
    }
  },
  "cells": [
    {
      "cell_type": "markdown",
      "metadata": {
        "id": "view-in-github",
        "colab_type": "text"
      },
      "source": [
        "<a href=\"https://colab.research.google.com/github/jenna0315/CC17-app/blob/main/ISM4641_Week03_Submission.ipynb\" target=\"_parent\"><img src=\"https://colab.research.google.com/assets/colab-badge.svg\" alt=\"Open In Colab\"/></a>"
      ]
    },
    {
      "cell_type": "markdown",
      "source": [
        "# Task 1: Container Data with Tuples"
      ],
      "metadata": {
        "id": "AsexwcngFTjl"
      }
    },
    {
      "cell_type": "markdown",
      "source": [
        "## 1. Create Three Container Tuples\n",
        "* Each tuple might look like:\n",
        " * container_a = (\"CONT-101\", 40.7128, -74.0060, True)\n",
        " * Where:\n",
        "   * CONT-101 is the container ID (a string).\n",
        "   * 40.7128 and -74.0060 are the lat/long coordinates (floats).\n",
        "   * True indicates whether the contents are fragile (Boolean)"
      ],
      "metadata": {
        "id": "QEwwAS3oD8SX"
      }
    },
    {
      "cell_type": "code",
      "execution_count": null,
      "metadata": {
        "id": "wrvOZ5CCD7df"
      },
      "outputs": [],
      "source": [
        "container_x = (\"CONT-101\",33.2223,-24.1114,True) # create container X\n",
        "container_y = (\"CONT-102\",55.2225,-26.1116,True) # create container Y\n",
        "container_z = (\"CONT-103\",77.2227,-28.1118,True) # create container Z"
      ]
    },
    {
      "cell_type": "markdown",
      "source": [
        "## 2. Print Each Tuple\n"
      ],
      "metadata": {
        "id": "Q9g3rJ8iFx04"
      }
    },
    {
      "cell_type": "code",
      "source": [
        "# Show that all three tuples were created properly.\n",
        "print(\"Container x:\",container_x) # print container X\n",
        "print(\"Container y:\",container_y) # print container Y\n",
        "print(\"Container z:\",container_z) # print container Z"
      ],
      "metadata": {
        "colab": {
          "base_uri": "https://localhost:8080/"
        },
        "id": "GtG_PwK8F6-w",
        "outputId": "a7927ef0-4b5a-427d-bf56-76818d157ab2"
      },
      "execution_count": null,
      "outputs": [
        {
          "output_type": "stream",
          "name": "stdout",
          "text": [
            "Container x: ('CONT-101', 33.2223, -24.1114, True)\n",
            "Container y: ('CONT-102', 55.2225, -26.1116, True)\n",
            "Container z: ('CONT-103', 77.2227, -28.1118, True)\n"
          ]
        }
      ]
    },
    {
      "cell_type": "markdown",
      "source": [
        "## 3. Tuple Immutability Check\n",
        "* Attempt to modify one of the tuples, for example:\n",
        "* container_a[1] = 41.0\n",
        "* Catch or show the error that occurs in a try-except block, or comment out the line, and explain in Markdown why it fails."
      ],
      "metadata": {
        "id": "I67XLHITGrIG"
      }
    },
    {
      "cell_type": "code",
      "source": [
        "# Attempt to modify tuple x\n",
        "try:\n",
        " container_x[1] = 41.0\n",
        " print(\"Container x:\",container_x)\n",
        "except TypeError:\n",
        " print(\"Tuple cannot be modified\")"
      ],
      "metadata": {
        "id": "SpbCpcR7G4V4",
        "colab": {
          "base_uri": "https://localhost:8080/"
        },
        "outputId": "a37b523c-4ec6-457a-f42d-b602955dcd0f"
      },
      "execution_count": null,
      "outputs": [
        {
          "output_type": "stream",
          "name": "stdout",
          "text": [
            "Tuple cannot be modified\n"
          ]
        }
      ]
    },
    {
      "cell_type": "markdown",
      "source": [
        "## 4. Unpack a Tuple\n",
        "* Pick one of the container tuples and unpack it into separate variables (e.g. cont_id, lat, lng, fragile = container_a).\n",
        "* Print each variable individually using f-strings to confirm youve successfully extracted the data."
      ],
      "metadata": {
        "id": "G2NmQiGdHj3y"
      }
    },
    {
      "cell_type": "code",
      "source": [
        "# unpack tuple X\n",
        "ID, lat, long, fragile = container_x\n",
        "\n",
        "print(f\"Container ID:\",ID) # print container x ID\n",
        "print(f\"Latitude:\",lat) # print container x lat\n",
        "print(f\"Longitude:\",long) # print container x long\n",
        "print(f\"Container is fragile?\",fragile) # print if container x is fragile"
      ],
      "metadata": {
        "colab": {
          "base_uri": "https://localhost:8080/"
        },
        "id": "GxhhuuKwIlJJ",
        "outputId": "afb04e33-ed9a-4a4f-b048-c0d8701b140f"
      },
      "execution_count": null,
      "outputs": [
        {
          "output_type": "stream",
          "name": "stdout",
          "text": [
            "Container ID: CONT-101\n",
            "Latitude: 33.2223\n",
            "Longitude: -24.1114\n",
            "Container is fragile? True\n"
          ]
        }
      ]
    },
    {
      "cell_type": "code",
      "source": [
        "from google.colab import drive\n",
        "drive.mount('/content/drive')"
      ],
      "metadata": {
        "id": "5U1xiZ_mon-t"
      },
      "execution_count": null,
      "outputs": []
    },
    {
      "cell_type": "markdown",
      "source": [
        "# Task 2: Managing Destinations with Sets\n"
      ],
      "metadata": {
        "id": "07ryes8uJMah"
      }
    },
    {
      "cell_type": "markdown",
      "source": [
        "## 1. Create a Set of Destinations\n",
        "* For example: destinations = {\"New York\", \"Los Angeles\", \"Dallas\", \"Chicago\", \"Miami\"}\n",
        "* Print the set. (Remember, sets may appear in any order.)"
      ],
      "metadata": {
        "id": "Ty2OV0JjJPEJ"
      }
    },
    {
      "cell_type": "code",
      "source": [
        "destinations = {\"Greece\",\"Italy\",\"Ireland\",\"England\",\"France\",\"Argentina\"} # create set of destinations\n",
        "print(\"Destinations:\",destinations) # print destinations"
      ],
      "metadata": {
        "colab": {
          "base_uri": "https://localhost:8080/"
        },
        "id": "cOTb0g8UVSOK",
        "outputId": "6259b1fe-d8ff-4240-ba1b-614f37877d59"
      },
      "execution_count": null,
      "outputs": [
        {
          "output_type": "stream",
          "name": "stdout",
          "text": [
            "Destinations: {'England', 'France', 'Italy', 'Argentina', 'Ireland', 'Greece'}\n"
          ]
        }
      ]
    },
    {
      "cell_type": "markdown",
      "source": [
        "## 2. Modify and Check Membership\n",
        "* Add a new city to the set (e.g., \"Seattle\") using .add().\n",
        "* Remove a city (e.g., \"Dallas\") using .remove(). Print the set after each\n",
        "* Check membership for a city that might not be in the set (e.g., \"Boston\") using \"Boston\" in destinations, and print a statement like Boston is in the set: False/True."
      ],
      "metadata": {
        "id": "Qxr_CJCJJT45"
      }
    },
    {
      "cell_type": "code",
      "source": [
        "print(\"Print Original Destinations:\",destinations) # Print original destinations\n",
        "\n",
        "destinations.add(\"Brazil\") # add \"Brazil\" to destinations set\n",
        "print(\"Destinations after adding Brazil:\",destinations) # Print destinations after adding Brazil\n",
        "\n",
        "destinations.remove(\"France\") # remove \"France\" from destinations set\n",
        "print(\"Destinations after removing France:\",destinations) # Print destinations after removing France\n",
        "\n",
        "if \"France\" in destinations: # check if France is in destinations (answer should be no)\n",
        "  print(\"France is in the set\")\n",
        "else:\n",
        "  print(\"France is not in the set\")"
      ],
      "metadata": {
        "colab": {
          "base_uri": "https://localhost:8080/"
        },
        "id": "w28WV6MtVhMa",
        "outputId": "980d02c0-9c4e-45e6-ee8d-a3a5d76fb846"
      },
      "execution_count": null,
      "outputs": [
        {
          "output_type": "stream",
          "name": "stdout",
          "text": [
            "Print Original Destinations: {'England', 'France', 'Italy', 'Argentina', 'Ireland', 'Greece'}\n",
            "Destinations after adding Brazil: {'England', 'Brazil', 'France', 'Italy', 'Argentina', 'Ireland', 'Greece'}\n",
            "Destinations after removing France: {'England', 'Brazil', 'Italy', 'Argentina', 'Ireland', 'Greece'}\n",
            "France is not in the set\n"
          ]
        }
      ]
    },
    {
      "cell_type": "markdown",
      "source": [
        "## 3. Remove vs. Discard\n"
      ],
      "metadata": {
        "id": "LKkxrAYfXd_9"
      }
    },
    {
      "cell_type": "markdown",
      "source": [
        "* Demonstrate the difference between .remove() and .discard() by calling them\n",
        "on a city that does not exist. For example:\n",
        "* Attempt remove()\n",
        "* destinations.remove(\"Paris\") # Should raise an error if not in the set"
      ],
      "metadata": {
        "id": "Y69Pa3ljd7GG"
      }
    },
    {
      "cell_type": "code",
      "source": [
        "# attempt remove\n",
        "try:\n",
        "  destinations.remove(\"Hawaii\")\n",
        "  print(\"Destinations after removing Hawaii:\",destinations)\n",
        "except KeyError:\n",
        "  print(\"Hawaii is not in the set\") # would raise a key error"
      ],
      "metadata": {
        "id": "-KllC65bYGPq",
        "colab": {
          "base_uri": "https://localhost:8080/"
        },
        "outputId": "49a87128-eff4-4162-9c4b-5406612ba5db"
      },
      "execution_count": null,
      "outputs": [
        {
          "output_type": "stream",
          "name": "stdout",
          "text": [
            "Hawaii is not in the set\n"
          ]
        }
      ]
    },
    {
      "cell_type": "markdown",
      "source": [
        "* Attempt discard()\n",
        " * destinations.discard(\"Paris\") # Should not raise an error\n",
        " * Print appropriate messages indicating the outcome.\n"
      ],
      "metadata": {
        "id": "hIiW0yPVGVUN"
      }
    },
    {
      "cell_type": "code",
      "source": [
        "# attempt discard\n",
        "destinations.discard(\"Hawaii\") # Should not raise an error\n",
        "print(\"Destinations after removing Hawaii:\",destinations) # print destinations\n"
      ],
      "metadata": {
        "colab": {
          "base_uri": "https://localhost:8080/"
        },
        "id": "RAOC-I_tGLYi",
        "outputId": "7be10d68-11a4-4c2a-f1ce-d9601a2db937"
      },
      "execution_count": null,
      "outputs": [
        {
          "output_type": "stream",
          "name": "stdout",
          "text": [
            "Destinations after removing Hawaii: {'England', 'Brazil', 'Italy', 'Argentina', 'Ireland', 'Greece'}\n"
          ]
        }
      ]
    },
    {
      "cell_type": "markdown",
      "source": [
        "## 4. Basic Set Operations\n",
        "* Create two additional sets, for instance:\n",
        "* west_coast = {\"Los Angeles\", \"Seattle\"}\n",
        "* east_coast = {\"New York\", \"Miami\"}\n",
        "* Print the results of:\n",
        " * Union of west_coast and east_coast\n",
        " * Intersection of destinations and east_coast\n",
        " * Difference between destinations and west_coast"
      ],
      "metadata": {
        "id": "pr-kKXWNX0DN"
      }
    },
    {
      "cell_type": "code",
      "source": [
        "# Create two additional sets\n",
        "europe = {\"England\",\"Greece\",\"Italy\",\"Ireland\"}\n",
        "south_america = {\"Brazil\",\"Argentina\"}\n",
        "\n",
        "print(\"Europe:\",europe)\n",
        "print(\"South America:\",south_america)\n",
        "\n",
        "# union of europe and south america\n",
        "union_set = europe.union(south_america)\n",
        "print(\"Union of Europe and South America:\",union_set)\n",
        "\n",
        "# intersection of original destinations and south american locations\n",
        "intersection_set = destinations.intersection(south_america)\n",
        "print(\"Intersection of Destinations and South America:\",intersection_set)\n",
        "\n",
        "# difference between original destinations and europe locations\n",
        "difference_set = destinations.difference(europe)\n",
        "print(\"Difference between Destinations and Europe:\",difference_set)"
      ],
      "metadata": {
        "id": "veP8w1SPY53Y",
        "colab": {
          "base_uri": "https://localhost:8080/"
        },
        "outputId": "50253595-7fc6-4b59-90aa-66e1dfbd482e"
      },
      "execution_count": null,
      "outputs": [
        {
          "output_type": "stream",
          "name": "stdout",
          "text": [
            "Europe: {'England', 'Ireland', 'Greece', 'Italy'}\n",
            "South America: {'Brazil', 'Argentina'}\n",
            "Union of Europe and South America: {'England', 'Brazil', 'Italy', 'Argentina', 'Ireland', 'Greece'}\n",
            "Intersection of Destinations and South America: {'Brazil', 'Argentina'}\n",
            "Difference between Destinations and Europe: {'Brazil', 'Argentina'}\n"
          ]
        }
      ]
    },
    {
      "cell_type": "markdown",
      "source": [
        "# Task 3: Bringing It All Together\n",
        "* Summit Exports needs a combined view of these container tuples and the shipping destinations."
      ],
      "metadata": {
        "id": "wYoqi9ZtgSVS"
      }
    },
    {
      "cell_type": "markdown",
      "source": [
        "## 1. Display Container Details\n",
        "* Print each container’s info in a user-friendly format. For example:\n",
        " * Container A:\n",
        " * ID: CONT-101\n",
        " * Coordinates: (40.7128, -74.0060)\n",
        " * Fragile: True\n",
        " * Use f-strings for clarity"
      ],
      "metadata": {
        "id": "GI6OrOvxgiv9"
      }
    },
    {
      "cell_type": "code",
      "source": [
        "print(f\"Container X:\\nID: {container_x[0]}\\nCoordinates: ({container_x[1]},{container_x[2]})\\nFragile: {container_x[3]}/n\") # print container X\n",
        "print(f\"Container Y:\\nID: {container_y[0]}\\nCoordinates: ({container_y[1]},{container_y[2]})\\nFragile: {container_y[3]}\") # print container Y\n",
        "print(f\"Container Z:\\nID: {container_z[0]}\\nCoordinates: ({container_z[1]},{container_z[2]})\\nFragile: {container_z[3]}\") # print container Z\n",
        "\n",
        "\n",
        "\n"
      ],
      "metadata": {
        "colab": {
          "base_uri": "https://localhost:8080/"
        },
        "id": "MMo24prXgfT0",
        "outputId": "071dd2e6-d97f-4879-8e8d-840ca148ee9c"
      },
      "execution_count": null,
      "outputs": [
        {
          "output_type": "stream",
          "name": "stdout",
          "text": [
            "Container X:\n",
            "ID: CONT-101\n",
            "Coordinates: (33.2223,-24.1114)\n",
            "Fragile: True/n\n",
            "Container Y:\n",
            "ID: CONT-102\n",
            "Coordinates: (55.2225,-26.1116)\n",
            "Fragile: True\n",
            "Container Z:\n",
            "ID: CONT-103\n",
            "Coordinates: (77.2227,-28.1118)\n",
            "Fragile: True\n"
          ]
        }
      ]
    },
    {
      "cell_type": "code",
      "source": [],
      "metadata": {
        "id": "xAAGIUMCnABw"
      },
      "execution_count": null,
      "outputs": []
    },
    {
      "cell_type": "markdown",
      "source": [
        "## 2. Count Unique Destinations\n",
        "* Print how many unique destinations are in your destinations set using\n",
        "len(destinations).\n",
        "* To see them in alphabetical order, convert to a list and sort: sorted_destinations = sorted(destinations)\n",
        "* print(\"All destinations (sorted):\", sorted_destinations)"
      ],
      "metadata": {
        "id": "8aqTSRWIbOf3"
      }
    },
    {
      "cell_type": "code",
      "source": [
        "print(\"Number of unique destinations:\",len(destinations)) # print length of destinations using len\n",
        "sorted_destinations = sorted(destinations) # sort destinations by alphabetical order\n",
        "print(\"All destinations (sorted):\", sorted_destinations) # print sorted destinations"
      ],
      "metadata": {
        "id": "Ji_1ANKkZjZe",
        "colab": {
          "base_uri": "https://localhost:8080/"
        },
        "outputId": "22c1de93-f893-45ce-abdc-7fad6ee51247"
      },
      "execution_count": null,
      "outputs": [
        {
          "output_type": "stream",
          "name": "stdout",
          "text": [
            "Number of unique destinations: 6\n",
            "All destinations (sorted): ['Argentina', 'Brazil', 'England', 'Greece', 'Ireland', 'Italy']\n"
          ]
        }
      ]
    },
    {
      "cell_type": "markdown",
      "source": [
        "## 3. Optional Looping / Condition\n",
        "* (Optional) Add a small loop that iterates over each destination in destinations."
      ],
      "metadata": {
        "id": "Roz2PylMfPTe"
      }
    },
    {
      "cell_type": "code",
      "source": [
        "for city in destinations:\n",
        " if city in europe:\n",
        "  print(f\"{city} is in Europe.\")\n",
        " elif city in south_america:\n",
        "  print(f\"{city} is in South America.\")\n",
        " else:\n",
        "  print(f\"{city} is neither in Europe nor South America, or is unclassified.\")"
      ],
      "metadata": {
        "id": "x2kGfLZmbOOu",
        "colab": {
          "base_uri": "https://localhost:8080/"
        },
        "outputId": "720a48d9-017d-4b91-e7a6-83d8188f9897"
      },
      "execution_count": null,
      "outputs": [
        {
          "output_type": "stream",
          "name": "stdout",
          "text": [
            "England is in Europe.\n",
            "Brazil is in South America.\n",
            "Italy is in Europe.\n",
            "Argentina is in South America.\n",
            "Ireland is in Europe.\n",
            "Greece is in Europe.\n"
          ]
        }
      ]
    }
  ]
}